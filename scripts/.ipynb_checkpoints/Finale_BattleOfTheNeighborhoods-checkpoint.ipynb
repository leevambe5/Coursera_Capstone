{
 "cells": [
  {
   "cell_type": "markdown",
   "metadata": {},
   "source": [
    "### Introduction"
   ]
  },
  {
   "cell_type": "markdown",
   "metadata": {},
   "source": [
    "The purpose of the project is to help an African entrepreneur map out a perfect spot to set up an African food restaurant. The move is mainly motivated by a high increase of Africans visiting Canada, Toronto to be more particular. The project aims to help the entreprenuer in finding the location were African food is most popular thereby minimising the risk of the business failing. This will also cut on market research and advertising costs as a way of boosting sales and popularity."
   ]
  },
  {
   "cell_type": "markdown",
   "metadata": {},
   "source": [
    "### Business Problem"
   ]
  },
  {
   "cell_type": "raw",
   "metadata": {},
   "source": [
    "The objective of the project is to help the entrepreneur locate the best and most suitable location to set up a new African food restraurant in Toronto. The project will make use of clustering algorithms in performing similarity cheks and it will hint the business owner on where he or she should consider opening the restaurant."
   ]
  },
  {
   "cell_type": "markdown",
   "metadata": {},
   "source": [
    "### Data"
   ]
  },
  {
   "cell_type": "markdown",
   "metadata": {},
   "source": [
    "For the purposes of this project, I shall make use of the following;\n",
    "1. List of neighborhoods in Toronto scraped from https://en.wikipedia.org/wiki/List_of_postal_codes_of_Canada:_M\n",
    "2. Geographical coordinates of the neighborhoods (Latitude and longitudes) fetched from the python geocoding library\n",
    "3. Data related to venues with African food using the Foursquare API"
   ]
  },
  {
   "cell_type": "code",
   "execution_count": null,
   "metadata": {},
   "outputs": [],
   "source": []
  }
 ],
 "metadata": {
  "kernelspec": {
   "display_name": "Python 3",
   "language": "python",
   "name": "python3"
  },
  "language_info": {
   "codemirror_mode": {
    "name": "ipython",
    "version": 3
   },
   "file_extension": ".py",
   "mimetype": "text/x-python",
   "name": "python",
   "nbconvert_exporter": "python",
   "pygments_lexer": "ipython3",
   "version": "3.6.8"
  }
 },
 "nbformat": 4,
 "nbformat_minor": 2
}
